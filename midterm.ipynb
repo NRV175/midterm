{
 "cells": [
  {
   "cell_type": "code",
   "execution_count": 1,
   "id": "c1b3a45a-23ce-4eb0-b0dc-b6a4a9aa1580",
   "metadata": {},
   "outputs": [
    {
     "name": "stdout",
     "output_type": "stream",
     "text": [
      "Length: 5.0\n",
      "Slope: 0.75\n"
     ]
    }
   ],
   "source": [
    "class Point:\n",
    "    def __init__(self, x=0, y=0):\n",
    "        self.x = x\n",
    "        self.y = y\n",
    "\n",
    "class Segment:\n",
    "    def __init__(self, p1: Point, p2: Point):\n",
    "        self.p1 = p1\n",
    "        self.p2 = p2\n",
    "\n",
    "    def length(self):\n",
    "       \n",
    "        return ((self.p2.x - self.p1.x) ** 2 + (self.p2.y - self.p1.y) ** 2) ** 0.5\n",
    "\n",
    "    def slope(self):\n",
    "      \n",
    "        if self.p2.x == self.p1.x:  \n",
    "            return None\n",
    "        return (self.p2.x - self.p1.x)/(self.p2.y - self.p1.y)\n",
    "\n",
    "\n",
    "p1 = Point(3, 4)\n",
    "p2 = Point() \n",
    "s = Segment(p1, p2)\n",
    "\n",
    "\n",
    "length = s.length()\n",
    "slope = s.slope()\n",
    "\n",
    "print(\"Length:\", length)  \n",
    "print(\"Slope:\", slope)      \n"
   ]
  },
  {
   "cell_type": "code",
   "execution_count": null,
   "id": "236c96ae-9f1b-4734-803d-6ab39fe49e65",
   "metadata": {},
   "outputs": [],
   "source": []
  }
 ],
 "metadata": {
  "kernelspec": {
   "display_name": "Python 3 (ipykernel)",
   "language": "python",
   "name": "python3"
  },
  "language_info": {
   "codemirror_mode": {
    "name": "ipython",
    "version": 3
   },
   "file_extension": ".py",
   "mimetype": "text/x-python",
   "name": "python",
   "nbconvert_exporter": "python",
   "pygments_lexer": "ipython3",
   "version": "3.12.4"
  }
 },
 "nbformat": 4,
 "nbformat_minor": 5
}
